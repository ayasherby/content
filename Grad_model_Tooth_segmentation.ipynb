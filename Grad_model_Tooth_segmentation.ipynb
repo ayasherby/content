{
  "nbformat": 4,
  "nbformat_minor": 0,
  "metadata": {
    "colab": {
      "provenance": [],
      "collapsed_sections": [
        "2aAfDG-AaL4_"
      ],
      "authorship_tag": "ABX9TyNCou6fFbyTVMs9uDc5iAhs",
      "include_colab_link": true
    },
    "kernelspec": {
      "name": "python3",
      "display_name": "Python 3"
    },
    "language_info": {
      "name": "python"
    }
  },
  "cells": [
    {
      "cell_type": "markdown",
      "metadata": {
        "id": "view-in-github",
        "colab_type": "text"
      },
      "source": [
        "<a href=\"https://colab.research.google.com/github/ayasherby/content/blob/main/Grad_model_Tooth_segmentation.ipynb\" target=\"_parent\"><img src=\"https://colab.research.google.com/assets/colab-badge.svg\" alt=\"Open In Colab\"/></a>"
      ]
    },
    {
      "cell_type": "code",
      "execution_count": 2,
      "metadata": {
        "colab": {
          "base_uri": "https://localhost:8080/"
        },
        "id": "JKGe9_ecqvux",
        "outputId": "3fbf98fb-92cc-487d-d3f2-b96f7bc4c589"
      },
      "outputs": [
        {
          "output_type": "stream",
          "name": "stdout",
          "text": [
            "Cloning into 'TEETH-RECOGNITION-WITH-MACHINE-LEARNING'...\n",
            "remote: Enumerating objects: 32505, done.\u001b[K\n",
            "remote: Counting objects: 100% (28/28), done.\u001b[K\n",
            "remote: Compressing objects: 100% (19/19), done.\u001b[K\n",
            "remote: Total 32505 (delta 19), reused 17 (delta 9), pack-reused 32477\u001b[K\n",
            "Receiving objects: 100% (32505/32505), 6.29 GiB | 38.76 MiB/s, done.\n",
            "Resolving deltas: 100% (5099/5099), done.\n",
            "Updating files: 100% (14166/14166), done.\n"
          ]
        }
      ],
      "source": [
        "!git clone https://github.com/Arnold0210/TEETH-RECOGNITION-WITH-MACHINE-LEARNING\n"
      ]
    },
    {
      "cell_type": "code",
      "source": [
        "pip install opencv-python-headless numpy tqdm"
      ],
      "metadata": {
        "colab": {
          "base_uri": "https://localhost:8080/"
        },
        "id": "lb5T0pqI8NK8",
        "outputId": "43d5e19d-c6b2-42d8-f97b-8e4a3197c357"
      },
      "execution_count": 84,
      "outputs": [
        {
          "output_type": "stream",
          "name": "stdout",
          "text": [
            "Requirement already satisfied: opencv-python-headless in /usr/local/lib/python3.10/dist-packages (4.9.0.80)\n",
            "Requirement already satisfied: numpy in /usr/local/lib/python3.10/dist-packages (1.25.2)\n",
            "Requirement already satisfied: tqdm in /usr/local/lib/python3.10/dist-packages (4.66.2)\n"
          ]
        }
      ]
    },
    {
      "cell_type": "code",
      "source": [
        "!pip install numpy pandas matplotlib scikit-learn"
      ],
      "metadata": {
        "colab": {
          "base_uri": "https://localhost:8080/"
        },
        "id": "uEmJCgbc1cz0",
        "outputId": "2010abdb-6650-4a92-f4ad-5ac06a8cdfe4"
      },
      "execution_count": 83,
      "outputs": [
        {
          "output_type": "stream",
          "name": "stdout",
          "text": [
            "Requirement already satisfied: numpy in /usr/local/lib/python3.10/dist-packages (1.25.2)\n",
            "Requirement already satisfied: pandas in /usr/local/lib/python3.10/dist-packages (2.0.3)\n",
            "Requirement already satisfied: matplotlib in /usr/local/lib/python3.10/dist-packages (3.7.1)\n",
            "Requirement already satisfied: scikit-learn in /usr/local/lib/python3.10/dist-packages (1.2.2)\n",
            "Requirement already satisfied: python-dateutil>=2.8.2 in /usr/local/lib/python3.10/dist-packages (from pandas) (2.8.2)\n",
            "Requirement already satisfied: pytz>=2020.1 in /usr/local/lib/python3.10/dist-packages (from pandas) (2023.4)\n",
            "Requirement already satisfied: tzdata>=2022.1 in /usr/local/lib/python3.10/dist-packages (from pandas) (2024.1)\n",
            "Requirement already satisfied: contourpy>=1.0.1 in /usr/local/lib/python3.10/dist-packages (from matplotlib) (1.2.1)\n",
            "Requirement already satisfied: cycler>=0.10 in /usr/local/lib/python3.10/dist-packages (from matplotlib) (0.12.1)\n",
            "Requirement already satisfied: fonttools>=4.22.0 in /usr/local/lib/python3.10/dist-packages (from matplotlib) (4.51.0)\n",
            "Requirement already satisfied: kiwisolver>=1.0.1 in /usr/local/lib/python3.10/dist-packages (from matplotlib) (1.4.5)\n",
            "Requirement already satisfied: packaging>=20.0 in /usr/local/lib/python3.10/dist-packages (from matplotlib) (24.0)\n",
            "Requirement already satisfied: pillow>=6.2.0 in /usr/local/lib/python3.10/dist-packages (from matplotlib) (9.4.0)\n",
            "Requirement already satisfied: pyparsing>=2.3.1 in /usr/local/lib/python3.10/dist-packages (from matplotlib) (3.1.2)\n",
            "Requirement already satisfied: scipy>=1.3.2 in /usr/local/lib/python3.10/dist-packages (from scikit-learn) (1.11.4)\n",
            "Requirement already satisfied: joblib>=1.1.1 in /usr/local/lib/python3.10/dist-packages (from scikit-learn) (1.4.0)\n",
            "Requirement already satisfied: threadpoolctl>=2.0.0 in /usr/local/lib/python3.10/dist-packages (from scikit-learn) (3.4.0)\n",
            "Requirement already satisfied: six>=1.5 in /usr/local/lib/python3.10/dist-packages (from python-dateutil>=2.8.2->pandas) (1.16.0)\n"
          ]
        }
      ]
    },
    {
      "cell_type": "code",
      "source": [
        "import os\n",
        "\n",
        "# Change the working directory to your project root\n",
        "project_root = '/content/TEETH-RECOGNITION-WITH-MACHINE-LEARNING/Experiment/Source'\n",
        "os.chdir(project_root)\n",
        "\n",
        "# Verify the change\n",
        "print(\"Current Working Directory: \", os.getcwd())"
      ],
      "metadata": {
        "colab": {
          "base_uri": "https://localhost:8080/"
        },
        "id": "fuJaF0MOIcNf",
        "outputId": "4a444a6d-1c18-4fc2-87ed-2508b2dd5c93"
      },
      "execution_count": 89,
      "outputs": [
        {
          "output_type": "stream",
          "name": "stdout",
          "text": [
            "Current Working Directory:  /content/TEETH-RECOGNITION-WITH-MACHINE-LEARNING/Experiment/Source\n"
          ]
        }
      ]
    },
    {
      "cell_type": "code",
      "source": [
        "!python main.py"
      ],
      "metadata": {
        "colab": {
          "base_uri": "https://localhost:8080/"
        },
        "id": "2BnTunXQx3sB",
        "outputId": "643b34a4-be4b-494d-8d19-37af8b7c49f3"
      },
      "execution_count": 143,
      "outputs": [
        {
          "output_type": "stream",
          "name": "stdout",
          "text": [
            "PreProcessing Directory Already Exists.\n",
            "FeatureExtraction Directory Already Exists.\n",
            "Sampling Directory Already Exists.\n",
            "Classification Directory Already Exists.\n",
            "Segmentation Directory Already Exists.\n",
            "BarPlot Directory Already Exists.\n",
            "BarPlotCh1 Directory Already Exists.\n",
            "BarPlotCh2 Directory Already Exists.\n",
            "BarPlotCh3 Directory Already Exists.\n",
            "Mask Directory Already Exists.\n",
            "MaskOverlay Directory Already Exists.\n",
            "Inverse Directory Already Exists.\n",
            "ResizeImages Directory Already Exists.\n",
            "RGB2YCbCr Directory Already Exists.\n",
            "HSV Directory Already Exists.\n",
            "LAB Directory Already Exists.\n",
            "Lab_ Directory Already Exists.\n",
            "ResizeImages Directory Already Exists.\n",
            "Segmentation Directory Already Exists.\n",
            "BarPlot Directory Already Exists.\n",
            "BarPlotCh1 Directory Already Exists.\n",
            "BarPlotCh2 Directory Already Exists.\n",
            "BarPlotCh3 Directory Already Exists.\n",
            "Mask Directory Already Exists.\n",
            "MaskOverlay Directory Already Exists.\n",
            "Inverse Directory Already Exists.\n",
            "ResizeImages Directory Already Exists.\n",
            "RGB2YCbCr Directory Already Exists.\n",
            "HSV Directory Already Exists.\n",
            "LAB Directory Already Exists.\n",
            "Lab_ Directory Already Exists.\n",
            "SVM Directory Already Exists.\n",
            "Que desea hacer? \n",
            "1. Leer imagenes y obtener caracteristicas\n",
            "2. Leer archivo de caracteristicas y entrenar algoritmo\n",
            "2\n",
            "2\n",
            "\n",
            "Indique la cantidad de veces de ejecución:10\n",
            "  0% 0/10 [00:00<?, ? times/s]\n",
            "Cantidad de folios a seperarar el conjunto de datos:5\n",
            "\n",
            " Porcentaje de division del conjunto de datos trianing/test:80\n",
            "\n",
            "['101_0826.JPG', '101_1012.JPG', '101_0337.JPG', '101_0069.JPG', '101_0159.JPG', '101_0584.JPG', '101_0355.JPG', '101_0422.JPG', '101_0177.JPG', '101_0592.JPG', '101_0374.JPG', '101_0761.JPG', '101_0091.JPG', '101_0245.JPG', '101_0808.JPG', '101_0704.JPG', '101_0919.JPG', '101_0879.JPG', '101_0016.JPG', '101_0039.JPG', '101_0524.JPG', '101_0896.JPG', '101_0899.JPG', '101_0092.JPG', '101_0291.JPG', '101_0246.JPG', '101_0553.JPG', '101_0767.JPG', '101_0383.JPG', '101_0913.JPG', '101_0689.JPG', '101_0947.JPG', '101_0875.JPG', '101_0940.JPG', '101_0420.JPG', '101_0180.JPG', '101_0466.JPG', '101_0099.JPG', '101_0411.JPG', '101_0542.JPG', '101_0994.JPG', '101_0499.JPG', '101_0510.JPG', '101_1004.JPG', '101_0842.JPG', '101_0692.JPG', '101_0035.JPG', '101_0380.JPG', '101_0086.JPG', '101_0976.JPG', '101_0696.JPG', '101_0819.JPG', '101_0007.JPG', '101_0162.JPG', '101_0024.JPG', '101_0446.JPG', '101_0049.JPG', '101_0723.JPG', '101_0117.JPG', '101_0476.JPG', '101_0567.JPG', '101_0614.JPG', '101_0501.JPG', '101_0888.JPG', '101_0714.JPG', '101_0554.JPG', '101_0156.JPG', '101_0009.JPG', '101_0453.JPG', '101_0768.JPG', '101_0139.JPG', '101_0194.JPG', '101_0160.JPG', '101_0314.JPG', '101_0851.JPG', '101_0491.JPG', '101_0531.JPG', '101_0930.JPG', '101_0921.JPG', '101_0329.JPG', '101_0462.JPG', '101_0058.JPG', '101_0667.JPG', '101_0684.JPG', '101_0113.JPG', '101_0330.JPG', '101_0323.JPG', '101_0346.JPG', '101_0023.JPG', '101_0079.JPG', '101_0641.JPG', '101_0513.JPG', '101_0550.JPG', '101_0624.JPG', '101_0812.JPG', '101_0785.JPG', '101_0912.JPG', '101_0178.JPG', '101_0709.JPG', '101_0729.JPG', '101_0008.JPG', '101_0084.JPG', '101_0539.JPG', '101_0224.JPG', '101_0724.JPG', '101_0790.JPG', '101_0093.JPG', '101_0496.JPG', '101_0708.JPG', '101_0951.JPG', '101_0269.JPG', '101_0811.JPG', '101_0685.JPG', '101_0482.JPG', '101_0627.JPG', '101_0121.JPG', '101_0037.JPG', '101_0068.JPG', '101_0787.JPG', '101_0622.JPG', '101_0583.JPG', '101_0197.JPG', '101_0451.JPG', '101_0201.JPG', '101_0109.JPG', '101_0399.JPG', '101_0304.JPG', '101_0742.JPG', '101_0175.JPG', '101_0463.JPG', '101_0255.JPG', '101_0754.JPG', '101_0745.JPG', '101_0720.JPG', '101_0957.JPG', '101_0975.JPG', '101_0506.JPG', '101_0442.JPG', '101_0769.JPG', '101_0794.JPG', '101_0191.JPG', '101_0891.JPG', '101_0261.JPG', '101_0909.JPG', '101_0529.JPG', '101_0425.JPG', '101_0230.JPG', '101_0530.JPG', '101_0541.JPG', '101_0518.JPG', '101_0690.JPG', '101_0465.JPG', '101_0608.JPG', '101_0770.JPG', '101_0528.JPG', '101_0351.JPG', '101_0144.JPG', '101_0792.JPG', '101_0353.JPG', '101_0352.JPG', '101_0205.JPG', '101_0544.JPG', '101_0074.JPG', '101_0815.JPG', '101_0365.JPG', '101_0432.JPG', '101_0999.JPG', '101_0889.JPG', '101_0664.JPG', '101_0030.JPG', '101_0924.JPG', '101_0805.JPG', '101_0131.JPG', '101_0022.JPG', '101_0396.JPG', '101_0492.JPG', '101_0468.JPG', '101_0083.JPG', '101_0134.JPG', '101_0862.JPG', '101_0773.JPG', '101_0561.JPG', '101_0284.JPG', '101_0128.JPG', '101_0573.JPG', '101_0183.JPG', '101_0632.JPG', '101_0161.JPG', '101_0733.JPG', '101_1026.JPG', '101_0135.JPG', '101_1000.JPG', '101_0635.JPG', '101_0193.JPG', '101_0417.JPG', '101_0471.JPG', '101_0247.JPG', '101_0105.JPG', '101_0578.JPG', '101_0152.JPG', '101_0854.JPG', '101_0082.JPG', '101_0392.JPG', '101_0129.JPG', '101_0804.JPG', '101_0771.JPG', '101_0935.JPG', '101_0500.JPG', '101_0732.JPG', '101_0229.JPG', '101_0115.JPG', '101_0412.JPG', '101_0967.JPG', '101_0923.JPG', '101_0824.JPG', '101_0816.JPG', '101_0572.JPG', '101_0502.JPG', '101_0010.JPG', '101_0526.JPG', '101_0741.JPG', '101_0586.JPG', '101_0218.JPG', '101_1008.JPG', '101_0268.JPG', '101_0752.JPG', '101_0605.JPG', '101_0301.JPG', '101_0559.JPG', '101_0187.JPG', '101_0356.JPG', '101_0282.JPG', '101_0953.JPG', '101_0044.JPG', '101_0582.JPG', '101_0818.JPG', '101_0555.JPG', '101_0253.JPG', '101_0993.JPG', '101_0588.JPG', '101_0116.JPG', '101_0155.JPG', '101_0562.JPG', '101_0097.JPG', '101_0315.JPG', '101_0021.JPG', '101_0028.JPG', '101_0297.JPG', '101_0908.JPG', '101_0457.JPG', '101_0759.JPG', '101_0823.JPG', '101_0520.JPG', '101_0514.JPG', '101_0413.JPG', '101_0946.JPG', '101_0225.JPG', '101_0753.JPG', '101_0848.JPG', '101_0124.JPG', '101_0203.JPG', '101_0276.JPG', '101_0481.JPG', '101_0199.JPG', '101_0580.JPG', '101_0657.JPG', '101_0290.JPG', '101_0487.JPG', '101_0360.JPG', '101_0111.JPG', '101_0512.JPG', '101_0062.JPG', '101_0776.JPG', '101_1002.JPG', '101_0107.JPG', '101_0185.JPG', '101_0973.JPG', '101_0864.JPG', '101_0233.JPG', '101_0793.JPG', '101_0319.JPG', '101_0764.JPG', '101_0018.JPG', '101_0653.JPG', '101_0929.JPG', '101_0100.JPG', '101_0368.JPG', '101_0772.JPG', '101_0273.JPG', '101_0429.JPG', '101_0306.JPG', '101_0943.JPG', '101_0235.JPG', '101_0362.JPG', '101_0727.JPG', '101_1019.JPG', '101_0830.JPG', '101_0915.JPG', '101_0064.JPG', '101_0590.JPG', '101_0628.JPG', '101_0459.JPG', '101_0682.JPG', '101_0795.JPG', '101_1027.JPG', '101_0813.JPG', '101_0495.JPG', '101_0401.JPG', '101_0895.JPG', '101_0359.JPG', '101_0405.JPG', '101_0207.JPG', '101_1015.JPG', '101_0479.JPG', '101_0739.JPG', '101_0136.JPG', '101_0932.JPG', '101_0154.JPG', '101_0391.JPG', '101_0597.JPG', '101_0886.JPG', '101_0055.JPG', '101_0801.JPG', '101_0705.JPG', '101_0122.JPG', '101_0428.JPG', '101_0856.JPG', '101_1016.JPG', '101_0436.JPG', '101_0416.JPG', '101_0781.JPG', '101_0735.JPG', '101_0475.JPG', '101_0890.JPG', '101_0004.JPG', '101_0332.JPG', '101_0782.JPG', '101_0971.JPG', '101_0151.JPG', '101_0722.JPG', '101_0876.JPG', '101_0522.JPG', '101_0071.JPG', '101_0153.JPG', '101_0763.JPG', '101_0900.JPG', '101_0096.JPG', '101_0147.JPG', '101_0467.JPG', '101_0636.JPG', '101_0736.JPG', '101_0141.JPG', '101_0688.JPG', '101_0621.JPG', '101_0296.JPG', '101_0285.JPG', '101_0784.JPG', '101_0242.JPG', '101_0033.JPG', '101_0120.JPG', '101_0158.JPG', '101_0256.JPG', '101_0715.JPG', '101_1010.JPG', '101_0488.JPG', '101_0800.JPG', '101_0458.JPG', '101_0423.JPG', '101_0034.JPG', '101_0223.JPG', '101_0114.JPG', '101_0295.JPG', '101_0743.JPG', '101_0669.JPG', '101_0497.JPG', '101_0106.JPG', '101_0750.JPG', '101_0758.JPG', '101_0866.JPG', '101_0898.JPG', '101_0716.JPG', '101_0846.JPG', '101_0192.JPG', '101_0101.JPG', '101_0252.JPG', '101_0104.JPG', '101_0933.JPG', '101_0674.JPG', '101_0148.JPG', '101_0138.JPG', '101_0127.JPG', '101_0216.JPG', '101_0865.JPG', '101_0652.JPG', '101_0874.JPG', '101_0995.JPG', '101_0609.JPG', '101_0863.JPG', '101_0593.JPG', '101_1011.JPG', '101_0855.JPG', '101_0979.JPG', '101_0343.JPG', '101_0615.JPG', '101_0118.JPG', '101_0002.JPG', '101_0631.JPG', '101_0748.JPG', '101_0817.JPG', '101_0944.JPG', '101_0077.JPG', '101_0918.JPG', '101_0686.JPG', '101_0575.JPG', '101_0166.JPG', '101_0602.JPG', '101_0173.JPG', '101_0647.JPG', '101_0347.JPG', '101_0616.JPG', '101_0797.JPG', '101_0384.JPG', '101_0264.JPG', '101_0706.JPG', '101_0809.JPG', '101_0483.JPG', '101_0858.JPG', '101_0168.JPG', '101_0402.JPG', '101_0617.JPG', '101_0438.JPG', '101_0320.JPG', '101_0780.JPG', '101_0749.JPG', '101_0679.JPG', '101_0778.JPG', '101_0911.JPG', '101_0450.JPG', '101_0538.JPG', '101_0272.JPG', '101_0587.JPG', '101_0665.JPG', '101_0655.JPG', '101_0298.JPG', '101_0678.JPG', '101_0623.JPG', '101_0038.JPG', '101_0836.JPG', '101_0549.JPG', '101_0318.JPG', '101_0656.JPG', '101_0719.JPG', '101_0250.JPG', '101_0013.JPG', '101_0130.JPG', '101_0388.JPG', '101_0271.JPG', '101_0711.JPG', '101_0430.JPG', '101_0661.JPG', '101_0964.JPG', '101_0244.JPG', '101_0454.JPG', '101_1014.JPG', '101_0860.JPG', '101_0067.JPG', '101_0985.JPG', '101_0335.JPG', '101_0885.JPG', '101_0788.JPG', '101_0560.JPG', '101_0363.JPG', '101_0948.JPG', '101_0986.JPG', '101_0644.JPG', '101_0048.JPG', '101_0054.JPG', '101_0643.JPG', '101_0126.JPG', '101_0257.JPG', '101_0204.JPG', '101_0226.JPG', '101_0968.JPG', '101_0810.JPG', '101_0728.JPG', '101_0676.JPG', '101_0234.JPG', '101_0552.JPG', '101_0470.JPG', '101_0634.JPG', '101_0041.JPG', '101_0633.JPG', '101_0361.JPG', '101_1018.JPG', '101_0838.JPG', '101_0941.JPG', '101_0981.JPG', '101_0279.JPG', '101_0591.JPG', '101_0701.JPG', '101_0238.JPG', '101_0877.JPG', '101_0231.JPG', '101_0431.JPG', '101_0511.JPG', '101_0984.JPG', '101_0003.JPG', '101_0489.JPG', '101_0697.JPG', '101_0210.JPG', '101_0433.JPG', '101_0211.JPG', '101_0307.JPG', '101_0137.JPG', '101_0712.JPG', '101_0649.JPG', '101_0543.JPG', '101_0461.JPG', '101_0456.JPG', '101_0557.JPG', '101_0594.JPG', '101_0043.JPG', '101_0731.JPG', '101_0695.JPG', '101_0861.JPG', '101_0897.JPG', '101_0699.JPG', '101_0595.JPG', '101_0277.JPG', '101_0358.JPG', '101_0045.JPG', '101_0486.JPG', '101_0651.JPG', '101_0626.JPG', '101_0032.JPG', '101_0521.JPG', '101_0991.JPG', '101_0857.JPG', '101_0262.JPG', '101_0263.JPG', '101_0443.JPG', '101_0265.JPG', '101_0783.JPG', '101_0937.JPG', '101_0955.JPG', '101_0576.JPG', '101_0972.JPG', '101_0027.JPG', '101_0390.JPG', '101_0847.JPG', '101_0765.JPG', '101_0959.JPG', '101_0102.JPG', '101_0053.JPG', '101_0309.JPG', '101_0791.JPG', '101_0444.JPG', '101_0477.JPG', '101_0308.JPG', '101_0449.JPG', '101_0516.JPG', '101_0606.JPG', '101_0831.JPG', '101_0527.JPG', '101_0734.JPG', '101_1003.JPG', '101_0066.JPG', '101_0730.JPG', '101_0503.JPG', '101_0070.JPG', '101_0251.JPG', '101_0243.JPG', '101_0974.JPG', '101_0227.JPG', '101_0642.JPG', '101_0017.JPG', '101_0208.JPG', '101_0717.JPG', '101_0997.JPG', '101_1029.JPG', '101_0260.JPG', '101_0620.JPG', '101_0176.JPG', '101_0599.JPG', '101_0755.JPG', '101_0267.JPG', '101_0321.JPG', '101_0165.JPG', '101_0938.JPG', '101_0057.JPG', '101_0473.JPG', '101_0042.JPG', '101_0677.JPG', '101_0394.JPG', '101_0188.JPG', '101_0726.JPG', '101_0881.JPG', '101_0379.JPG', '101_0640.JPG', '101_0005.JPG', '101_0884.JPG', '101_0844.JPG', '101_0281.JPG', '101_0019.JPG', '101_0828.JPG', '101_0472.JPG', '101_0887.JPG', '101_0648.JPG', '101_0548.JPG', '101_0397.JPG', '101_0670.JPG', '101_0212.JPG', '101_0829.JPG', '101_0241.JPG', '101_0646.JPG', '101_0806.JPG', '101_0221.JPG', '101_0418.JPG', '101_0311.JPG', '101_0036.JPG', '101_0403.JPG', '101_0969.JPG', '101_0014.JPG', '101_0883.JPG', '101_0196.JPG', '101_0146.JPG', '101_0798.JPG', '101_0031.JPG', '101_0992.JPG', '101_1013.JPG', '101_0312.JPG', '101_0220.JPG', '101_0928.JPG', '101_0523.JPG', '101_0328.JPG', '101_0980.JPG', '101_0654.JPG', '101_0336.JPG', '101_0317.JPG', '101_0777.JPG', '101_0076.JPG', '101_0493.JPG', '101_0313.JPG', '101_0569.JPG', '101_1021.JPG', '101_1020.JPG', '101_0638.JPG', '101_1007.JPG', '101_0832.JPG', '101_0280.JPG', '101_0469.JPG', '101_0288.JPG', '101_0485.JPG', '101_0213.JPG', '101_0849.JPG', '101_0215.JPG', '101_0266.JPG', '101_0663.JPG', '101_0983.JPG', '101_0239.JPG', '101_0508.JPG', '101_0604.JPG', '101_0892.JPG', '101_0237.JPG', '101_0098.JPG', '101_0650.JPG', '101_0182.JPG', '101_0051.JPG', '101_0214.JPG', '101_1025.JPG', '101_0841.JPG', '101_0853.JPG', '101_0143.JPG', '101_0931.JPG', '101_0452.JPG', '101_0063.JPG', '101_0515.JPG', '101_0740.JPG', '101_0494.JPG', '101_0480.JPG', '101_0404.JPG', '101_0934.JPG', '101_0338.JPG', '101_0756.JPG', '101_0209.JPG', '101_0103.JPG', '101_0088.JPG', '101_0757.JPG', '101_0341.JPG', '101_0222.JPG', '101_0988.JPG', '101_0078.JPG', '101_0163.JPG', '101_0236.JPG', '101_0094.JPG', '101_0507.JPG', '101_0700.JPG', '101_0827.JPG', '101_0439.JPG', '101_0577.JPG', '101_0464.JPG', '101_0902.JPG', '101_0762.JPG', '101_0963.JPG', '101_0410.JPG', '101_0725.JPG', '101_0249.JPG', '101_0775.JPG', '101_0807.JPG', '101_0710.JPG', '101_0435.JPG', '101_1001.JPG', '101_0012.JPG', '101_0532.JPG', '101_0080.JPG', '101_0721.JPG', '101_0498.JPG', '101_0535.JPG', '101_0179.JPG', '101_0232.JPG', '101_0189.JPG', '101_0056.JPG', '101_0945.JPG', '101_0611.JPG', '101_0691.JPG', '101_0354.JPG', '101_0157.JPG', '101_0926.JPG', '101_0537.JPG', '101_0145.JPG', '101_0344.JPG', '101_0047.JPG', '101_0419.JPG', '101_0707.JPG', '101_0852.JPG', '101_0589.JPG', '101_0660.JPG', '101_0490.JPG', '101_1009.JPG', '101_0434.JPG', '101_0190.JPG', '101_0618.JPG', '101_0302.JPG', '101_0460.JPG', '101_0574.JPG', '101_0421.JPG', '101_0029.JPG', '101_0546.JPG', '101_0766.JPG', '101_0747.JPG', '101_0607.JPG', '101_0774.JPG', '101_1017.JPG', '101_0517.JPG', '101_0248.JPG', '101_0331.JPG', '101_0167.JPG', '101_0081.JPG', '101_0799.JPG', '101_0925.JPG', '101_0395.JPG', '101_0140.JPG', '101_0015.JPG', '101_0598.JPG', '101_0366.JPG', '101_0681.JPG', '101_0426.JPG', '101_0903.JPG', '101_0845.JPG', '101_0385.JPG', '101_0327.JPG', '101_0558.JPG', '101_0977.JPG', '101_0718.JPG', '101_0206.JPG', '101_0149.JPG', '101_0334.JPG', '101_0369.JPG', '101_0310.JPG', '101_0437.JPG', '101_0547.JPG', '101_0389.JPG', '101_0095.JPG', '101_0698.JPG', '101_0339.JPG', '101_0303.JPG', '101_0400.JPG', '101_0910.JPG', '101_0942.JPG', '101_0254.JPG', '101_0760.JPG', '101_0050.JPG', '101_1022.JPG', '101_0585.JPG', '101_0505.JPG', '101_0278.JPG', '101_0085.JPG', '101_0834.JPG', '101_0445.JPG', '101_0326.JPG', '101_0398.JPG', '101_0693.JPG', '101_0922.JPG', '101_0195.JPG', '101_0275.JPG', '101_0610.JPG', '101_0075.JPG', '101_0659.JPG', '101_0954.JPG', '101_0382.JPG', '101_0533.JPG', '101_0835.JPG', '101_0367.JPG', '101_0882.JPG', '101_0040.JPG', '101_0184.JPG', '101_0294.JPG', '101_0600.JPG', '101_0333.JPG', '101_0409.JPG', '101_0603.JPG', '101_0270.JPG', '101_0174.JPG', '101_0713.JPG', '101_0292.JPG', '101_0601.JPG', '101_0893.JPG', '101_0089.JPG', '101_0581.JPG', '101_0545.JPG', '101_0814.JPG', '101_0751.JPG', '101_0566.JPG', '101_0687.JPG', '101_0958.JPG', '101_0448.JPG', '101_0952.JPG', '101_0478.JPG', '101_0645.JPG', '101_0850.JPG', '101_0658.JPG', '101_0672.JPG', '101_0637.JPG', '101_0324.JPG', '101_0833.JPG', '101_0939.JPG', '101_0570.JPG', '101_0509.JPG', '101_0906.JPG', '101_0859.JPG', '101_0132.JPG', '101_0364.JPG', '101_0936.JPG', '101_0565.JPG', '101_0011.JPG', '101_0519.JPG', '101_0901.JPG', '101_0998.JPG', '101_0415.JPG', '101_0300.JPG', '101_0357.JPG', '101_0119.JPG', '101_0090.JPG', '101_0702.JPG', '101_0240.JPG', '101_0779.JPG', '101_0694.JPG', '101_0316.JPG', '101_0803.JPG', '101_0987.JPG', '101_0579.JPG', '101_0087.JPG', '101_0920.JPG', '101_0970.JPG', '101_0371.JPG', '101_0703.JPG', '101_0978.JPG', '101_0596.JPG', '101_0125.JPG', '101_0744.JPG', '101_0073.JPG', '101_0447.JPG', '101_0381.JPG', '101_0133.JPG', '101_0293.JPG', '101_0525.JPG', '101_0217.JPG', '101_0802.JPG', '101_0110.JPG', '101_0322.JPG', '101_0905.JPG', '101_0612.JPG', '101_0181.JPG', '101_0666.JPG', '101_0186.JPG', '101_0639.JPG', '101_1006.JPG', '101_0274.JPG', '101_0393.JPG', '101_0001.JPG', '101_0961.JPG', '101_0673.JPG', '101_0571.JPG', '101_0625.JPG', '101_0556.JPG', '101_0061.JPG', '101_0619.JPG', '101_0989.JPG', '101_0440.JPG', '101_0370.JPG', '101_0427.JPG', '101_0950.JPG', '101_0123.JPG', '101_0345.JPG', '101_0059.JPG', '101_0108.JPG', '101_0305.JPG', '101_0917.JPG', '101_0630.JPG', '101_0052.JPG', '101_0408.JPG', '101_0325.JPG', '101_0786.JPG', '101_0916.JPG', '101_0172.JPG', '101_0424.JPG', '101_0072.JPG', '101_0406.JPG', '101_0112.JPG', '101_0956.JPG', '101_0564.JPG', '101_0065.JPG', '101_0259.JPG', '101_0796.JPG', '101_0060.JPG', '101_0202.JPG', '101_0683.JPG', '101_0914.JPG', '101_0996.JPG', '101_0990.JPG', '101_0484.JPG', '101_0613.JPG', '101_0960.JPG', '101_0150.JPG', '101_0228.JPG', '101_0962.JPG', '101_0563.JPG', '101_1024.JPG', '101_0820.JPG', '101_0441.JPG', '101_0504.JPG', '101_0880.JPG', '101_0568.JPG', '101_1005.JPG', '101_0551.JPG', '101_0789.JPG', '101_1028.JPG', '101_0474.JPG', '101_0006.JPG', '101_0407.JPG', '101_0904.JPG', '101_0840.JPG', '101_0414.JPG', '101_0299.JPG', '101_0982.JPG', '101_0455.JPG', '101_0668.JPG', '101_0675.JPG', '101_0340.JPG', '101_0927.JPG', '101_0843.JPG', '101_0219.JPG', '101_0629.JPG']\n",
            "  0% 0/10 [00:02<?, ? times/s]\n",
            "Traceback (most recent call last):\n",
            "  File \"/content/TEETH-RECOGNITION-WITH-MACHINE-LEARNING/Experiment/Source/main.py\", line 254, in <module>\n",
            "    tesis.main_alldataset()\n",
            "  File \"/content/TEETH-RECOGNITION-WITH-MACHINE-LEARNING/Experiment/Source/main.py\", line 218, in main_alldataset\n",
            "    SVM, DT, KNN = cc.classification(self.PATH_IMAGES, X, Y, folds, tags, target_names, vals_to_replace)\n",
            "  File \"/content/TEETH-RECOGNITION-WITH-MACHINE-LEARNING/Experiment/Source/Classification.py\", line 110, in classification\n",
            "    print(list(images_name.index('101_0001.JPG')))\n",
            "ValueError: '101_0001.JPG' is not in list\n"
          ]
        }
      ]
    },
    {
      "cell_type": "code",
      "source": [
        "import errno\n",
        "import os\n",
        "from os import listdir\n",
        "from os.path import isfile, join\n",
        "\n",
        "import matplotlib.pyplot as plt\n",
        "import pandas as pd\n",
        "from sklearn import svm\n",
        "from sklearn.metrics import roc_curve, auc, accuracy_score, classification_report, confusion_matrix\n",
        "from sklearn.model_selection import train_test_split, KFold\n",
        "from sklearn.neighbors import KNeighborsClassifier\n",
        "from sklearn.tree import DecisionTreeClassifier\n",
        "\n",
        "\n",
        "class Classification:\n",
        "    def __init__(self, PATH_PROJECT):\n",
        "        self.path_project = os.path.join(PATH_PROJECT, 'Classification')\n",
        "        try:\n",
        "            if not os.path.exists(self.path_project + 'SVM'):\n",
        "                self.path_getColor = os.path.join(self.path_project, 'SVM')\n",
        "                os.mkdir(self.path_getColor)\n",
        "                print('SVM Directory Created')\n",
        "        except OSError as e:\n",
        "            if e.errno == errno.EEXIST:\n",
        "                print('SVM Directory Already Exists.')\n",
        "            else:\n",
        "                raise\n",
        "\n",
        "    def readfeatures(self, features_Path):\n",
        "        # featuresFile = open(features_Path, \"r\")\n",
        "        # featuresData = csv.reader(featuresFile)\n",
        "        featuresFile = pd.read_csv(features_Path, sep=',', header=None)\n",
        "        names = featuresFile.iloc[:, 0]\n",
        "        features = featuresFile.iloc[:, 1:]\n",
        "        shapefile = featuresFile.shape\n",
        "        col = []\n",
        "        for x in range(0, shapefile[1]):\n",
        "            if x == 0:\n",
        "                col.append(\"NAME\")\n",
        "            else:\n",
        "                col.append(\"VALOR-\" + str(x))\n",
        "        featuresFile.columns = col\n",
        "        # print(featuresFile)\n",
        "        return names, features\n",
        "\n",
        "    def readLabels(self, labels_path):\n",
        "        labels_path = os.path.join(labels_path, 'Labels.csv')\n",
        "        labels = pd.read_csv(labels_path, sep=',', header=[0])\n",
        "        return labels\n",
        "\n",
        "    def classificatorSVM(self, features, labels):\n",
        "        X = []\n",
        "        for f in features:\n",
        "            X.append(f)\n",
        "        tags = []\n",
        "        for tag in labels:\n",
        "            tags.append(tag)\n",
        "        clf = svm.SVC(gamma='scale')\n",
        "        clf.fit(X, tags)\n",
        "        return clf\n",
        "\n",
        "    def DecisionTree(self, features, labels):\n",
        "        dt = DecisionTreeClassifier(random_state=30, max_depth=300)\n",
        "        X = []\n",
        "        for f in features:\n",
        "            X.append(f)\n",
        "        tags = []\n",
        "        for tag in labels:\n",
        "            tags.append(tag)\n",
        "        dt.fit(X, tags)\n",
        "\n",
        "        return dt\n",
        "\n",
        "    def KNN(self, features, labels):\n",
        "        knn = KNeighborsClassifier(n_neighbors=200, algorithm='auto', weights='distance', n_jobs=-1)\n",
        "        X = []\n",
        "        for f in features:\n",
        "            X.append(f)\n",
        "        tags = []\n",
        "        for tag in labels:\n",
        "            tags.append(tag)\n",
        "        knn.fit(X, tags)\n",
        "        return knn\n",
        "\n",
        "    def classification(self, path_dataset, features, labels, n_splits, tags, target_names, vals_to_replace):\n",
        "        pd.options.mode.chained_assignment = None\n",
        "        onlyfiles = [f for f in listdir(path_dataset) if\n",
        "                     isfile(join(path_dataset, f))]\n",
        "        print(onlyfiles)\n",
        "        k_folds = KFold(n_splits=n_splits)\n",
        "        SVM = []\n",
        "        KNN = []\n",
        "        DT = []\n",
        "        for stage, feature in zip(labels, features):\n",
        "            stage['Color'] = stage['Color'].map(vals_to_replace)\n",
        "            labels_color = stage['Color'].to_numpy().tolist()\n",
        "            images_name = stage['Nombre de la imagen'].to_numpy().tolist()\n",
        "            svm_training_Score = []\n",
        "            confusion_matrix_svm = []\n",
        "            confusion_matrix_dt = []\n",
        "            confusion_matrix_knn = []\n",
        "            classification_report_svm = []\n",
        "            classification_report_dt = []\n",
        "            classification_report_knn = []\n",
        "            score_accuracy_SVM = []\n",
        "            score_accuracy_DT = []\n",
        "            score_accuracy_KNN = []\n",
        "            index_images_name = []\n",
        "            k_folds.get_n_splits(index_images_name)\n",
        "            print(list(images_name.index('101_0001.JPG')))\n",
        "\n",
        "            for train_index, test_index in k_folds.split(images_name):\n",
        "                train_label = []\n",
        "                test_label = []\n",
        "                train_features = []\n",
        "                test_features = []\n",
        "                for i in train_index:\n",
        "                    train_features.append(feature.to_numpy().tolist()[images_name.index(onlyfiles[i].split('.')[0])])\n",
        "                    # train_features.append(feature.to_numpy()[images_name.str(onlyfiles[i].split('.')[0])])\n",
        "                    train_label.append(labels_color[images_name.index(onlyfiles[i].split('.')[0])])\n",
        "                SVM_Classifier = self.classificatorSVM(train_features, train_label)\n",
        "                DT_Classifier = self.DecisionTree(train_features, train_label)\n",
        "                KNN_Classifier = self.KNN(train_features, train_label)\n",
        "\n",
        "                for i in test_index:\n",
        "                    test_features.append(feature.to_numpy()[images_name.index(str(onlyfiles[i].split('.')[0]))])\n",
        "                    test_label.append(labels_color[images_name.index(str(onlyfiles[i].split('.')[0]))])\n",
        "                predict_label_SVM = SVM_Classifier.predict(test_features)\n",
        "                predict_label_DT = DT_Classifier.predict(test_features)\n",
        "                predict_label_KNN = KNN_Classifier.predict(test_features)\n",
        "\n",
        "                confusionMatrixSVM = confusion_matrix(test_label, predict_label_SVM)\n",
        "                confusionMatrixDT = confusion_matrix(test_label, predict_label_DT)\n",
        "                confusionMatrixKNN = confusion_matrix(test_label, predict_label_KNN)\n",
        "\n",
        "                classification_report_svm.append(\n",
        "                    classification_report(test_label, predict_label_SVM, labels=tags,\n",
        "                                          target_names=target_names, sample_weight=None, digits=5,\n",
        "                                          output_dict=False))\n",
        "                classification_report_dt.append(\n",
        "                    classification_report(test_label, predict_label_DT, labels=tags,\n",
        "                                          target_names=target_names, sample_weight=None, digits=5,\n",
        "                                          output_dict=False))\n",
        "                classification_report_knn.append(\n",
        "                    classification_report(test_label, predict_label_KNN, labels=tags,\n",
        "                                          target_names=target_names, sample_weight=None, digits=5,\n",
        "                                          output_dict=False))\n",
        "\n",
        "                confusion_matrix_svm.append(confusionMatrixSVM)\n",
        "                confusion_matrix_dt.append(confusionMatrixDT)\n",
        "                confusion_matrix_knn.append(confusionMatrixKNN)\n",
        "\n",
        "                score_accuracy_SVM.append(accuracy_score(test_label, predict_label_SVM))\n",
        "                score_accuracy_DT.append(accuracy_score(test_label, predict_label_DT))\n",
        "                score_accuracy_KNN.append(accuracy_score(test_label, predict_label_KNN))\n",
        "            SVM_RESULTS = [confusion_matrix_svm, classification_report_svm, score_accuracy_SVM]\n",
        "            DT_RESULTS = [confusion_matrix_dt, classification_report_dt, score_accuracy_DT]\n",
        "            KNN_RESULTS = [confusion_matrix_knn, classification_report_knn, score_accuracy_KNN]\n",
        "            SVM.append(SVM_RESULTS)\n",
        "            KNN.append(KNN_RESULTS)\n",
        "            DT.append(DT_RESULTS)\n",
        "        return SVM, KNN, DT\n",
        "\n",
        "    def CrossValidation(self, image, labels, test_size):\n",
        "        X = []\n",
        "        Y = []\n",
        "        X_train, X_test, y_train, y_test = train_test_split(image, labels, test_size=test_size)\n",
        "        X.append(X_train)\n",
        "        X.append(X_test)\n",
        "        Y.append(y_train)\n",
        "        Y.append(y_test)\n",
        "        print()\n",
        "        return X, Y\n",
        "\n",
        "    def ROC_CURVE(self, label_test, label_score):\n",
        "        n_classes = label_test.shape\n",
        "        fpr = dict()\n",
        "        tpr = dict()\n",
        "        roc_auc = dict()\n",
        "        for i in range(n_classes):\n",
        "            fpr[i], tpr[i], _ = roc_curve(label_test[:, i], label_score[:, i])\n",
        "            roc_auc[i] = auc(fpr[i], tpr[i])\n",
        "        # Compute micro-average ROC curve and ROC area\n",
        "        fpr[\"micro\"], tpr[\"micro\"], _ = roc_curve(label_test.ravel(), label_score.ravel())\n",
        "        roc_auc[\"micro\"] = auc(fpr[\"micro\"], tpr[\"micro\"])\n",
        "\n",
        "        # Plot of a ROC curve for a specific class\n",
        "        plt.figure()\n",
        "        plt.plot(fpr[2], tpr[2], label='ROC curve (area = %0.2f)' % roc_auc[2])\n",
        "        plt.plot([0, 1], [0, 1], 'k--')\n",
        "        plt.xlim([0.0, 1.0])\n",
        "        plt.ylim([0.0, 1.05])\n",
        "        plt.xlabel('False Positive Rate')\n",
        "        plt.ylabel('True Positive Rate')\n",
        "        plt.title('Receiver operating characteristic example')\n",
        "        plt.legend(loc=\"lower right\")\n",
        "        plt.show()\n",
        "\n",
        "        # Plot ROC curve\n",
        "        plt.figure()\n",
        "        plt.plot(fpr[\"micro\"], tpr[\"micro\"],\n",
        "                 label='micro-average ROC curve (area = {0:0.2f})'\n",
        "                       ''.format(roc_auc[\"micro\"]))\n",
        "        for i in range(n_classes):\n",
        "            plt.plot(fpr[i], tpr[i], label='ROC curve of class {0} (area = {1:0.2f})'\n",
        "                                           ''.format(i, roc_auc[i]))\n",
        "\n",
        "        plt.plot([0, 1], [0, 1], 'k--')\n",
        "        plt.xlim([0.0, 1.0])\n",
        "        plt.ylim([0.0, 1.05])\n",
        "        plt.xlabel('False Positive Rate')\n",
        "        plt.ylabel('True Positive Rate')\n",
        "        plt.title('Some extension of Receiver operating characteristic to multi-class')\n",
        "        plt.legend(loc=\"lower right\")\n",
        "        plt.show()\n"
      ],
      "metadata": {
        "id": "paYbK8RgRUCS"
      },
      "execution_count": 136,
      "outputs": []
    },
    {
      "cell_type": "markdown",
      "source": [],
      "metadata": {
        "id": "U42e-Al5-J6r"
      }
    },
    {
      "cell_type": "markdown",
      "source": [
        "## **Trying for Batches**"
      ],
      "metadata": {
        "id": "2aAfDG-AaL4_"
      }
    },
    {
      "cell_type": "code",
      "source": [
        "import os\n",
        "import cv2 as cv\n",
        "from tqdm import tqdm\n",
        "\n",
        "class LoadData:\n",
        "    def __init__(self, path_images):\n",
        "        self.PATH = path_images\n",
        "\n",
        "    def read_images_in_batches(self, batch_size=32):\n",
        "        files = [file for file in os.listdir(self.PATH) if file.lower().endswith(('.jpg', '.jpeg'))]\n",
        "        total_files = len(files)\n",
        "        for i in range(0, total_files, batch_size):\n",
        "            batch_files = files[i:i+batch_size]\n",
        "            images = []\n",
        "            names = []\n",
        "            for filename in batch_files:\n",
        "                image_path = os.path.join(self.PATH, filename)\n",
        "                try:\n",
        "                    img = cv.imread(image_path)\n",
        "                    if img is not None:\n",
        "                        images.append(img)\n",
        "                        names.append(filename)\n",
        "                    else:\n",
        "                        print(f\"Failed to load image: {filename}\")\n",
        "                except Exception as e:\n",
        "                    print(f\"Error reading {filename}: {e}\")\n",
        "            yield images, names\n",
        "\n",
        "    def read_one_image(self, image_name):\n",
        "        image_path = os.path.join(self.PATH, image_name)\n",
        "        try:\n",
        "            image = cv.imread(image_path, 1)\n",
        "            if image is not None:\n",
        "                return image, image_name\n",
        "            else:\n",
        "                print(f\"Failed to load image: {image_name}\")\n",
        "        except Exception as e:\n",
        "            print(f\"Error reading {image_name}: {e}\")\n",
        "            return None, image_name"
      ],
      "metadata": {
        "id": "kqLIRVicTem-"
      },
      "execution_count": 3,
      "outputs": []
    },
    {
      "cell_type": "code",
      "source": [
        "# Copyright (c) 2019. Arnold Julian Herrera Quiñones -  Cristhian Camilo Arce Garcia.\n",
        "# All Rights Reserved\n",
        "#\n",
        "# This product is protected by copyright and distributed under\n",
        "# licenses restricting copying, distribution, and decompilation.\n",
        "# It is forbidden the use partial or global of this algorithm  unless authors written permission.\n",
        "\n",
        "import errno\n",
        "import os\n",
        "import sys\n",
        "\n",
        "\n",
        "import cv2 as cv\n",
        "import numpy as np\n",
        "from tqdm import tqdm\n",
        "\n",
        "# Now try your imports\n",
        "import Classification as Cl\n",
        "import FeatureExtraction as fE\n",
        "import PreProcessingData as pD\n",
        "import ReadImages as rI\n",
        "\n",
        "\n",
        "def show(image):\n",
        "    cv.imshow('Imagen ', image)\n",
        "    cv.waitKey(0)\n",
        "    cv.destroyAllWindows()\n",
        "\n",
        "\n",
        "class MainClass:\n",
        "    PROJECT_PATH = os.path.join(os.getcwd(), os.path.pardir)\n",
        "    PATH_IMAGES_ORIGINAL = os.path.abspath(\n",
        "        os.path.join(os.path.join(os.path.join(os.getcwd(), os.pardir), os.pardir), \"/content/TEETH-RECOGNITION-WITH-MACHINE-LEARNING/DATASET - Original\"))\n",
        "    PATH_Labels = os.path.abspath(\n",
        "        os.path.join(os.path.join(os.path.join(os.getcwd(), os.pardir), os.pardir), \"/content/TEETH-RECOGNITION-WITH-MACHINE-LEARNING/Labels\"))\n",
        "    PATH_LabelsXML = os.path.abspath(os.path.join(\n",
        "        os.path.join(os.path.join(os.path.join(os.getcwd(), os.pardir), os.pardir), \"/content/TEETH-RECOGNITION-WITH-MACHINE-LEARNING/Labels\"), \"LabelsXML\"))\n",
        "    PATH_IMAGES = os.path.abspath(\n",
        "        os.path.join(os.path.join(os.path.join(os.getcwd(), os.pardir), os.pardir), \"/content/TEETH-RECOGNITION-WITH-MACHINE-LEARNING/DATASET\"))\n",
        "    readimages = None\n",
        "    preprocessing = None\n",
        "    featureExtraction = None\n",
        "    clasification = None\n",
        "\n",
        "    def __init__(self):\n",
        "        try:\n",
        "            if not os.path.exists(self.PROJECT_PATH + 'PreProcessing'):\n",
        "                os.mkdir(os.path.join(self.PROJECT_PATH, 'PreProcessing'))\n",
        "                print('Directory Created')\n",
        "        except OSError as e:\n",
        "            if e.errno == errno.EEXIST:\n",
        "                print('PreProcessing Directory Already Exists.')\n",
        "            else:\n",
        "                raise\n",
        "        try:\n",
        "            if not os.path.exists(self.PROJECT_PATH + 'FeatureExtraction'):\n",
        "                os.mkdir(os.path.join(self.PROJECT_PATH, 'FeatureExtraction'))\n",
        "                print('Directory Created')\n",
        "        except OSError as e:\n",
        "            if e.errno == errno.EEXIST:\n",
        "                print('FeatureExtraction Directory Already Exists.')\n",
        "            else:\n",
        "                raise\n",
        "        try:\n",
        "            if not os.path.exists(self.PROJECT_PATH + 'Sampling'):\n",
        "                os.mkdir(os.path.join(self.PROJECT_PATH, 'Sampling'))\n",
        "                print('Directory Created')\n",
        "        except OSError as e:\n",
        "            if e.errno == errno.EEXIST:\n",
        "                print('Sampling Directory Already Exists.')\n",
        "            else:\n",
        "                raise\n",
        "        try:\n",
        "            if not os.path.exists(self.PROJECT_PATH + 'Classification'):\n",
        "                os.mkdir(os.path.join(self.PROJECT_PATH, 'Classification'))\n",
        "                print('Directory Classification Created')\n",
        "        except OSError as e:\n",
        "            if e.errno == errno.EEXIST:\n",
        "                print('Classification Directory Already Exists.')\n",
        "            else:\n",
        "                raise\n",
        "        self.readimages = rI.LoadData(self.PATH_IMAGES_ORIGINAL)\n",
        "        self.preProcessing = pD.PreProcessingData(self.PROJECT_PATH, self.PATH_IMAGES_ORIGINAL)\n",
        "        self.featureExtraction = fE.FeatureExtraction(self.PROJECT_PATH, self.PATH_IMAGES_ORIGINAL)\n",
        "        self.clasification = Cl.Classification(self.PROJECT_PATH)\n",
        "\n",
        "    def main_run(self):\n",
        "        # Se declaran las clases para poder utilizar los elementos\n",
        "        read = self.readimages\n",
        "        pp = self.preProcessing\n",
        "        fe = self.featureExtraction\n",
        "\n",
        "        # Option 1: Read images in batches (using batch processing)\n",
        "        loader = LoadData(\"/content/TEETH-RECOGNITION-WITH-MACHINE-LEARNING/DATASET\")\n",
        "        batch_size = 30  # You can adjust the batch size based on your memory capacity\n",
        "\n",
        "        for images, names in loader.read_images_in_batches(batch_size):\n",
        "            # Process each batch here\n",
        "             print(f\"Processed a batch of {len(images)} images\")"
      ],
      "metadata": {
        "colab": {
          "base_uri": "https://localhost:8080/",
          "height": 399
        },
        "id": "QK0E8B49WMyg",
        "outputId": "4390f01f-f6a1-47d0-8e65-8b4a5bd2ca2c"
      },
      "execution_count": 21,
      "outputs": [
        {
          "output_type": "error",
          "ename": "ModuleNotFoundError",
          "evalue": "No module named 'Classification'",
          "traceback": [
            "\u001b[0;31m---------------------------------------------------------------------------\u001b[0m",
            "\u001b[0;31mModuleNotFoundError\u001b[0m                       Traceback (most recent call last)",
            "\u001b[0;32m<ipython-input-21-a792964f8032>\u001b[0m in \u001b[0;36m<cell line: 18>\u001b[0;34m()\u001b[0m\n\u001b[1;32m     16\u001b[0m \u001b[0;34m\u001b[0m\u001b[0m\n\u001b[1;32m     17\u001b[0m \u001b[0;31m# Now try your imports\u001b[0m\u001b[0;34m\u001b[0m\u001b[0;34m\u001b[0m\u001b[0m\n\u001b[0;32m---> 18\u001b[0;31m \u001b[0;32mimport\u001b[0m \u001b[0mClassification\u001b[0m \u001b[0;32mas\u001b[0m \u001b[0mCl\u001b[0m\u001b[0;34m\u001b[0m\u001b[0;34m\u001b[0m\u001b[0m\n\u001b[0m\u001b[1;32m     19\u001b[0m \u001b[0;32mimport\u001b[0m \u001b[0mFeatureExtraction\u001b[0m \u001b[0;32mas\u001b[0m \u001b[0mfE\u001b[0m\u001b[0;34m\u001b[0m\u001b[0;34m\u001b[0m\u001b[0m\n\u001b[1;32m     20\u001b[0m \u001b[0;32mimport\u001b[0m \u001b[0mPreProcessingData\u001b[0m \u001b[0;32mas\u001b[0m \u001b[0mpD\u001b[0m\u001b[0;34m\u001b[0m\u001b[0;34m\u001b[0m\u001b[0m\n",
            "\u001b[0;31mModuleNotFoundError\u001b[0m: No module named 'Classification'",
            "",
            "\u001b[0;31m---------------------------------------------------------------------------\u001b[0;32m\nNOTE: If your import is failing due to a missing package, you can\nmanually install dependencies using either !pip or !apt.\n\nTo view examples of installing some common dependencies, click the\n\"Open Examples\" button below.\n\u001b[0;31m---------------------------------------------------------------------------\u001b[0m\n"
          ],
          "errorDetails": {
            "actions": [
              {
                "action": "open_url",
                "actionText": "Open Examples",
                "url": "/notebooks/snippets/importing_libraries.ipynb"
              }
            ]
          }
        }
      ]
    },
    {
      "cell_type": "code",
      "source": [
        "loader = LoadData(\"/content/TEETH-RECOGNITION-WITH-MACHINE-LEARNING/DATASET\")\n",
        "batch_size = 100  # You can adjust the batch size based on your memory capacity\n",
        "\n",
        "for images, names in loader.read_images_in_batches(batch_size):\n",
        "    # Process each batch here\n",
        "    print(f\"Processed a batch of {len(images)} images\")"
      ],
      "metadata": {
        "colab": {
          "base_uri": "https://localhost:8080/"
        },
        "id": "yC8_X4ppUjIn",
        "outputId": "a34e9638-d1fb-48fa-f286-7dea17bea104"
      },
      "execution_count": 15,
      "outputs": [
        {
          "output_type": "stream",
          "name": "stdout",
          "text": [
            "Processed a batch of 100 images\n",
            "Processed a batch of 100 images\n",
            "Processed a batch of 100 images\n",
            "Processed a batch of 100 images\n",
            "Processed a batch of 100 images\n",
            "Processed a batch of 100 images\n",
            "Processed a batch of 100 images\n",
            "Processed a batch of 100 images\n",
            "Processed a batch of 100 images\n",
            "Processed a batch of 73 images\n"
          ]
        }
      ]
    },
    {
      "cell_type": "code",
      "source": [
        "import pandas as pd\n",
        "\n",
        "# Assuming your features are in 'features.csv' and labels in 'labels.csv'\n",
        "features_df = pd.read_csv('/content/TEETH-RECOGNITION-WITH-MACHINE-LEARNING/Experiment/FeatureExtraction/features.csv')\n",
        "labels_df = pd.read_csv('/content/TEETH-RECOGNITION-WITH-MACHINE-LEARNING/Labels/Labels.csv')\n",
        "\n",
        "# Select rows 0 to 937 from features_df (assuming indexing starts from 0)\n",
        "features_subset = features_df.iloc[0:938]  # Adjust end index to 938 for 937 rows (inclusive)\n",
        "\n",
        "# Assuming the image name is in the first column of features.csv (adjust if different)\n",
        "matching_image_names = set(labels_df['Nombre de la imagen'])\n",
        "\n",
        "# Filter features_subset to keep rows with matching image names in labels_df\n",
        "features_with_labels = features_subset[features_subset['Imagen'].isin(matching_image_names)]\n",
        "\n",
        "# Now features_with_labels and labels_df should have a matching number of rows\n",
        "\n",
        "# Extract labels from labels_df\n",
        "labels = labels_df['color']  # Adjust column name if needed\n",
        "\n",
        "# Proceed with training your model using features_with_labels and labels\n"
      ],
      "metadata": {
        "colab": {
          "base_uri": "https://localhost:8080/",
          "height": 497
        },
        "id": "VUk8CviyKc7v",
        "outputId": "8641922c-3390-4f85-bca0-3560da991abb"
      },
      "execution_count": 121,
      "outputs": [
        {
          "output_type": "error",
          "ename": "KeyError",
          "evalue": "'Imagen'",
          "traceback": [
            "\u001b[0;31m---------------------------------------------------------------------------\u001b[0m",
            "\u001b[0;31mKeyError\u001b[0m                                  Traceback (most recent call last)",
            "\u001b[0;32m/usr/local/lib/python3.10/dist-packages/pandas/core/indexes/base.py\u001b[0m in \u001b[0;36mget_loc\u001b[0;34m(self, key)\u001b[0m\n\u001b[1;32m   3652\u001b[0m         \u001b[0;32mtry\u001b[0m\u001b[0;34m:\u001b[0m\u001b[0;34m\u001b[0m\u001b[0;34m\u001b[0m\u001b[0m\n\u001b[0;32m-> 3653\u001b[0;31m             \u001b[0;32mreturn\u001b[0m \u001b[0mself\u001b[0m\u001b[0;34m.\u001b[0m\u001b[0m_engine\u001b[0m\u001b[0;34m.\u001b[0m\u001b[0mget_loc\u001b[0m\u001b[0;34m(\u001b[0m\u001b[0mcasted_key\u001b[0m\u001b[0;34m)\u001b[0m\u001b[0;34m\u001b[0m\u001b[0;34m\u001b[0m\u001b[0m\n\u001b[0m\u001b[1;32m   3654\u001b[0m         \u001b[0;32mexcept\u001b[0m \u001b[0mKeyError\u001b[0m \u001b[0;32mas\u001b[0m \u001b[0merr\u001b[0m\u001b[0;34m:\u001b[0m\u001b[0;34m\u001b[0m\u001b[0;34m\u001b[0m\u001b[0m\n",
            "\u001b[0;32m/usr/local/lib/python3.10/dist-packages/pandas/_libs/index.pyx\u001b[0m in \u001b[0;36mpandas._libs.index.IndexEngine.get_loc\u001b[0;34m()\u001b[0m\n",
            "\u001b[0;32m/usr/local/lib/python3.10/dist-packages/pandas/_libs/index.pyx\u001b[0m in \u001b[0;36mpandas._libs.index.IndexEngine.get_loc\u001b[0;34m()\u001b[0m\n",
            "\u001b[0;32mpandas/_libs/hashtable_class_helper.pxi\u001b[0m in \u001b[0;36mpandas._libs.hashtable.PyObjectHashTable.get_item\u001b[0;34m()\u001b[0m\n",
            "\u001b[0;32mpandas/_libs/hashtable_class_helper.pxi\u001b[0m in \u001b[0;36mpandas._libs.hashtable.PyObjectHashTable.get_item\u001b[0;34m()\u001b[0m\n",
            "\u001b[0;31mKeyError\u001b[0m: 'Imagen'",
            "\nThe above exception was the direct cause of the following exception:\n",
            "\u001b[0;31mKeyError\u001b[0m                                  Traceback (most recent call last)",
            "\u001b[0;32m<ipython-input-121-d06a7fb908a9>\u001b[0m in \u001b[0;36m<cell line: 14>\u001b[0;34m()\u001b[0m\n\u001b[1;32m     12\u001b[0m \u001b[0;34m\u001b[0m\u001b[0m\n\u001b[1;32m     13\u001b[0m \u001b[0;31m# Filter features_subset to keep rows with matching image names in labels_df\u001b[0m\u001b[0;34m\u001b[0m\u001b[0;34m\u001b[0m\u001b[0m\n\u001b[0;32m---> 14\u001b[0;31m \u001b[0mfeatures_with_labels\u001b[0m \u001b[0;34m=\u001b[0m \u001b[0mfeatures_subset\u001b[0m\u001b[0;34m[\u001b[0m\u001b[0mfeatures_subset\u001b[0m\u001b[0;34m[\u001b[0m\u001b[0;34m'Imagen'\u001b[0m\u001b[0;34m]\u001b[0m\u001b[0;34m.\u001b[0m\u001b[0misin\u001b[0m\u001b[0;34m(\u001b[0m\u001b[0mmatching_image_names\u001b[0m\u001b[0;34m)\u001b[0m\u001b[0;34m]\u001b[0m\u001b[0;34m\u001b[0m\u001b[0;34m\u001b[0m\u001b[0m\n\u001b[0m\u001b[1;32m     15\u001b[0m \u001b[0;34m\u001b[0m\u001b[0m\n\u001b[1;32m     16\u001b[0m \u001b[0;31m# Now features_with_labels and labels_df should have a matching number of rows\u001b[0m\u001b[0;34m\u001b[0m\u001b[0;34m\u001b[0m\u001b[0m\n",
            "\u001b[0;32m/usr/local/lib/python3.10/dist-packages/pandas/core/frame.py\u001b[0m in \u001b[0;36m__getitem__\u001b[0;34m(self, key)\u001b[0m\n\u001b[1;32m   3759\u001b[0m             \u001b[0;32mif\u001b[0m \u001b[0mself\u001b[0m\u001b[0;34m.\u001b[0m\u001b[0mcolumns\u001b[0m\u001b[0;34m.\u001b[0m\u001b[0mnlevels\u001b[0m \u001b[0;34m>\u001b[0m \u001b[0;36m1\u001b[0m\u001b[0;34m:\u001b[0m\u001b[0;34m\u001b[0m\u001b[0;34m\u001b[0m\u001b[0m\n\u001b[1;32m   3760\u001b[0m                 \u001b[0;32mreturn\u001b[0m \u001b[0mself\u001b[0m\u001b[0;34m.\u001b[0m\u001b[0m_getitem_multilevel\u001b[0m\u001b[0;34m(\u001b[0m\u001b[0mkey\u001b[0m\u001b[0;34m)\u001b[0m\u001b[0;34m\u001b[0m\u001b[0;34m\u001b[0m\u001b[0m\n\u001b[0;32m-> 3761\u001b[0;31m             \u001b[0mindexer\u001b[0m \u001b[0;34m=\u001b[0m \u001b[0mself\u001b[0m\u001b[0;34m.\u001b[0m\u001b[0mcolumns\u001b[0m\u001b[0;34m.\u001b[0m\u001b[0mget_loc\u001b[0m\u001b[0;34m(\u001b[0m\u001b[0mkey\u001b[0m\u001b[0;34m)\u001b[0m\u001b[0;34m\u001b[0m\u001b[0;34m\u001b[0m\u001b[0m\n\u001b[0m\u001b[1;32m   3762\u001b[0m             \u001b[0;32mif\u001b[0m \u001b[0mis_integer\u001b[0m\u001b[0;34m(\u001b[0m\u001b[0mindexer\u001b[0m\u001b[0;34m)\u001b[0m\u001b[0;34m:\u001b[0m\u001b[0;34m\u001b[0m\u001b[0;34m\u001b[0m\u001b[0m\n\u001b[1;32m   3763\u001b[0m                 \u001b[0mindexer\u001b[0m \u001b[0;34m=\u001b[0m \u001b[0;34m[\u001b[0m\u001b[0mindexer\u001b[0m\u001b[0;34m]\u001b[0m\u001b[0;34m\u001b[0m\u001b[0;34m\u001b[0m\u001b[0m\n",
            "\u001b[0;32m/usr/local/lib/python3.10/dist-packages/pandas/core/indexes/base.py\u001b[0m in \u001b[0;36mget_loc\u001b[0;34m(self, key)\u001b[0m\n\u001b[1;32m   3653\u001b[0m             \u001b[0;32mreturn\u001b[0m \u001b[0mself\u001b[0m\u001b[0;34m.\u001b[0m\u001b[0m_engine\u001b[0m\u001b[0;34m.\u001b[0m\u001b[0mget_loc\u001b[0m\u001b[0;34m(\u001b[0m\u001b[0mcasted_key\u001b[0m\u001b[0;34m)\u001b[0m\u001b[0;34m\u001b[0m\u001b[0;34m\u001b[0m\u001b[0m\n\u001b[1;32m   3654\u001b[0m         \u001b[0;32mexcept\u001b[0m \u001b[0mKeyError\u001b[0m \u001b[0;32mas\u001b[0m \u001b[0merr\u001b[0m\u001b[0;34m:\u001b[0m\u001b[0;34m\u001b[0m\u001b[0;34m\u001b[0m\u001b[0m\n\u001b[0;32m-> 3655\u001b[0;31m             \u001b[0;32mraise\u001b[0m \u001b[0mKeyError\u001b[0m\u001b[0;34m(\u001b[0m\u001b[0mkey\u001b[0m\u001b[0;34m)\u001b[0m \u001b[0;32mfrom\u001b[0m \u001b[0merr\u001b[0m\u001b[0;34m\u001b[0m\u001b[0;34m\u001b[0m\u001b[0m\n\u001b[0m\u001b[1;32m   3656\u001b[0m         \u001b[0;32mexcept\u001b[0m \u001b[0mTypeError\u001b[0m\u001b[0;34m:\u001b[0m\u001b[0;34m\u001b[0m\u001b[0;34m\u001b[0m\u001b[0m\n\u001b[1;32m   3657\u001b[0m             \u001b[0;31m# If we have a listlike key, _check_indexing_error will raise\u001b[0m\u001b[0;34m\u001b[0m\u001b[0;34m\u001b[0m\u001b[0m\n",
            "\u001b[0;31mKeyError\u001b[0m: 'Imagen'"
          ]
        }
      ]
    }
  ]
}